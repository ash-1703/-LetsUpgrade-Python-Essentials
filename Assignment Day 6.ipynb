{
 "cells": [
  {
   "cell_type": "raw",
   "metadata": {},
   "source": [
    "Question 1\n",
    "For this challenge,create a bank account class that has two attributes\n",
    "*ownerName\n",
    "*Balance\n",
    "And two methods\n",
    "*deposit\n",
    "*withdraw\n",
    "As an added requirement,withdrawals may not exceed the available balance.\n",
    "Instantiate your class,make several deposits and withdrawals,and test to make sure the account\n",
    "cant be overdrawn."
   ]
  },
  {
   "cell_type": "code",
   "execution_count": 53,
   "metadata": {},
   "outputs": [],
   "source": [
    "class bankaccount():\n",
    "    def __init__(self,ownerName,Balance):\n",
    "        self.ownerName=ownerName\n",
    "        self.Balance=Balance\n",
    "    def deposit(self):\n",
    "        \n",
    "        deposit = int(input(\"Enter the amount you want to deposit \"))\n",
    "        self.Balance = self.Balance + deposit\n",
    "        print(\"You have deposited Rs \", deposit ,\"and yor total balance is Rs \",self.Balance)\n",
    "    def withdraw(self):\n",
    "        \n",
    "        withdraw = int(input(\"Enter the amount you want to withdraw \"))\n",
    "        \n",
    "        if ( withdraw > self.Balance):\n",
    "            print(\"Overdraw not allowed\")\n",
    "        else :\n",
    "            self.Balance = self.Balance - withdraw\n",
    "            print(\"You have withdraw Rs \", withdraw, \"and your total balance is Rs\",self.Balance)\n",
    "        \n",
    "        #lambda x : True if (x > 10 and x < 20) else False\n",
    "    #overdraw = lambda withdraw,Balance: print(\"overdraw not allowed\") if (withdraw > Balance)\n",
    "        \n",
    "    \n",
    "        \n",
    "            \n",
    "        "
   ]
  },
  {
   "cell_type": "code",
   "execution_count": 54,
   "metadata": {},
   "outputs": [],
   "source": [
    "ash = bankaccount(\"Aishwarya Tupe\", 50000)"
   ]
  },
  {
   "cell_type": "code",
   "execution_count": 55,
   "metadata": {},
   "outputs": [
    {
     "name": "stdout",
     "output_type": "stream",
     "text": [
      "Enter the amount you want to deposit 10000\n",
      "You have deposited Rs  10000 and yor total balance is Rs  60000\n"
     ]
    }
   ],
   "source": [
    "ash.deposit()"
   ]
  },
  {
   "cell_type": "code",
   "execution_count": 56,
   "metadata": {},
   "outputs": [
    {
     "name": "stdout",
     "output_type": "stream",
     "text": [
      "Enter the amount you want to withdraw 20000\n",
      "You have withdraw Rs  20000 and your total balance is Rs 40000\n"
     ]
    }
   ],
   "source": [
    "ash.withdraw()"
   ]
  },
  {
   "cell_type": "code",
   "execution_count": 57,
   "metadata": {},
   "outputs": [
    {
     "name": "stdout",
     "output_type": "stream",
     "text": [
      "Enter the amount you want to withdraw 50000\n",
      "Overdraw not allowed\n"
     ]
    }
   ],
   "source": [
    "ash.withdraw()"
   ]
  },
  {
   "cell_type": "code",
   "execution_count": 58,
   "metadata": {},
   "outputs": [
    {
     "name": "stdout",
     "output_type": "stream",
     "text": [
      "Enter the amount you want to withdraw 10000\n",
      "You have withdraw Rs  10000 and your total balance is Rs 30000\n"
     ]
    }
   ],
   "source": [
    "ash.withdraw()"
   ]
  },
  {
   "cell_type": "code",
   "execution_count": 59,
   "metadata": {},
   "outputs": [
    {
     "name": "stdout",
     "output_type": "stream",
     "text": [
      "Enter the amount you want to deposit 50000\n",
      "You have deposited Rs  50000 and yor total balance is Rs  80000\n"
     ]
    }
   ],
   "source": [
    "ash.deposit()"
   ]
  },
  {
   "cell_type": "code",
   "execution_count": null,
   "metadata": {},
   "outputs": [],
   "source": []
  },
  {
   "cell_type": "raw",
   "metadata": {},
   "source": [
    "Question 2\n",
    "For this challenge,create a cone class that has two attributes:\n",
    "*R=Radius\n",
    "*h=Height\n",
    "And two methods:\n",
    "*Volume = Π * r2 * (h/3)\n",
    "*Surface area : base : Π * r2 , side : Π * r * √(r2 + h2)\n",
    "Make only one class with functions,as in where required import Math."
   ]
  },
  {
   "cell_type": "code",
   "execution_count": 91,
   "metadata": {},
   "outputs": [],
   "source": [
    "import math\n",
    "class cone():\n",
    "    \n",
    "    def __init__(self,r,h):\n",
    "        self.r = r\n",
    "        self.h = h\n",
    "        \n",
    "    def volume(self) :\n",
    "        \n",
    "        volume = (math.pi*self.r**2*self.h)/3\n",
    "        \n",
    "        print(volume)\n",
    "        \n",
    "        \n",
    "    def SurfaceArea(self):\n",
    "        surfaceArea =(math.pi*self.r**2) + (math.pi*self.r*math.sqrt(self.r**2+self.h**2))\n",
    "        \n",
    "        print(surfaceArea)\n",
    "        "
   ]
  },
  {
   "cell_type": "code",
   "execution_count": 92,
   "metadata": {},
   "outputs": [],
   "source": [
    "maths = cone(3,4)"
   ]
  },
  {
   "cell_type": "code",
   "execution_count": 93,
   "metadata": {},
   "outputs": [
    {
     "name": "stdout",
     "output_type": "stream",
     "text": [
      "75.39822368615503\n"
     ]
    }
   ],
   "source": [
    "maths.SurfaceArea()"
   ]
  },
  {
   "cell_type": "code",
   "execution_count": 94,
   "metadata": {},
   "outputs": [
    {
     "name": "stdout",
     "output_type": "stream",
     "text": [
      "37.69911184307752\n"
     ]
    }
   ],
   "source": [
    "maths.volume()"
   ]
  },
  {
   "cell_type": "markdown",
   "metadata": {},
   "source": []
  }
 ],
 "metadata": {
  "kernelspec": {
   "display_name": "Python 3",
   "language": "python",
   "name": "python3"
  },
  "language_info": {
   "codemirror_mode": {
    "name": "ipython",
    "version": 3
   },
   "file_extension": ".py",
   "mimetype": "text/x-python",
   "name": "python",
   "nbconvert_exporter": "python",
   "pygments_lexer": "ipython3",
   "version": "3.8.3"
  }
 },
 "nbformat": 4,
 "nbformat_minor": 4
}
