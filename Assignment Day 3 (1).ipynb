{
 "cells": [
  {
   "cell_type": "markdown",
   "metadata": {},
   "source": [
    "#Question 1\n",
    "You all are Pilots, you want to land a plane safely, so altitude required for landing a plane is\n",
    "1000ft, it it is less than tell pilot to land the plane, or it is more than that but less than 5000ft ask\n",
    "the pilot to “come down to 1000ft”, else if it more than 5000ft ask the pilot to “go around and try\n",
    "later”\n",
    "Example : Input - 1000\n",
    "Output - Safe to Land\n",
    "Example : Input - 4500\n",
    "Output - Bring down to 1000\n",
    "Example : Input - 6500\n",
    "Output - Turn Around"
   ]
  },
  {
   "cell_type": "code",
   "execution_count": 12,
   "metadata": {},
   "outputs": [
    {
     "name": "stdout",
     "output_type": "stream",
     "text": [
      "Enter your altitude- 1000\n",
      "You are safe to land\n"
     ]
    }
   ],
   "source": [
    "inp = input(\"Enter your altitude- \")\n",
    "\n",
    "inp = int(inp)\n",
    "\n",
    "if( inp == 1000):\n",
    "    print (\"You are safe to land\")\n",
    "    \n",
    "elif( inp>1000 and inp<5000):\n",
    "    print(\"Come down to 1000ft\")\n",
    "    \n",
    "elif inp>5000:\n",
    "    print(\"Turn around and try again later\")"
   ]
  },
  {
   "cell_type": "code",
   "execution_count": 9,
   "metadata": {},
   "outputs": [
    {
     "name": "stdout",
     "output_type": "stream",
     "text": [
      "Enter your altitude- 3000\n",
      "Come down to 1000ft\n"
     ]
    }
   ],
   "source": [
    "inp = input(\"Enter your altitude- \")\n",
    "\n",
    "inp = int(inp)\n",
    "\n",
    "if( inp == 1000):\n",
    "    print (\"You are safe to land\")\n",
    "    \n",
    "elif( inp>1000 and inp<5000):\n",
    "    print(\"Come down to 1000ft\")\n",
    "    \n",
    "elif inp>5000:\n",
    "    print(\"Turn around and try again later\")"
   ]
  },
  {
   "cell_type": "code",
   "execution_count": 10,
   "metadata": {},
   "outputs": [
    {
     "name": "stdout",
     "output_type": "stream",
     "text": [
      "Enter your altitude- 6000\n",
      "Turn around and try again later\n"
     ]
    }
   ],
   "source": [
    "inp = input(\"Enter your altitude- \")\n",
    "\n",
    "inp = int(inp)\n",
    "\n",
    "if( inp == 1000):\n",
    "    print (\"You are safe to land\")\n",
    "    \n",
    "elif( inp>1000 and inp<5000):\n",
    "    print(\"Come down to 1000ft\")\n",
    "    \n",
    "elif inp>5000:\n",
    "    print(\"Turn around and try again later\")"
   ]
  },
  {
   "cell_type": "markdown",
   "metadata": {},
   "source": [
    "Question 2\n",
    "Using for loop please print all the prime numbers between 1- 200 using FOR LOOP AND RANGE\n",
    "function.\n",
    "Output2,3,5,7….."
   ]
  },
  {
   "cell_type": "code",
   "execution_count": 11,
   "metadata": {},
   "outputs": [
    {
     "name": "stdout",
     "output_type": "stream",
     "text": [
      " 2   3   5   7   11   13   17   19   23   29   31   37   41   43   47   53   59   61   67   71   73   79   83   89   97   101   103   107   109   113   127   131   137   139   149   151   157   163   167   173   179   181   191   193   197   199  "
     ]
    }
   ],
   "source": [
    "for Number in range (1, 200):\n",
    "    count = 0\n",
    "    for i in range(2, (Number//2 + 1)):\n",
    "        if(Number % i == 0):\n",
    "            count = count + 1\n",
    "            break\n",
    "\n",
    "    if (count == 0 and Number != 1):\n",
    "        print(\" %d\" %Number, end = '  ')"
   ]
  },
  {
   "cell_type": "code",
   "execution_count": null,
   "metadata": {},
   "outputs": [],
   "source": []
  }
 ],
 "metadata": {
  "kernelspec": {
   "display_name": "Python 3",
   "language": "python",
   "name": "python3"
  },
  "language_info": {
   "codemirror_mode": {
    "name": "ipython",
    "version": 3
   },
   "file_extension": ".py",
   "mimetype": "text/x-python",
   "name": "python",
   "nbconvert_exporter": "python",
   "pygments_lexer": "ipython3",
   "version": "3.8.3"
  }
 },
 "nbformat": 4,
 "nbformat_minor": 4
}
