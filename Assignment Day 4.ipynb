{
 "cells": [
  {
   "cell_type": "markdown",
   "metadata": {},
   "source": [
    "Question 1\n",
    "Print the first ArmStrong number in the range of 1042000 to 702648265 and exit the loop as soon\n",
    "as you encounter the first armstrong number.\n",
    "Use while loop\n",
    "OutputThe first armstrong number is -----------"
   ]
  },
  {
   "cell_type": "code",
   "execution_count": null,
   "metadata": {},
   "outputs": [
    {
     "name": "stdout",
     "output_type": "stream",
     "text": [
      "The armstrong number is  4782969\n"
     ]
    }
   ],
   "source": [
    "for num in range (1042000,702648265):\n",
    "    raiseto=len(str(num))\n",
    "    temp = num\n",
    "    sum = 0\n",
    "    while temp>0:\n",
    "        digit = temp % 10\n",
    "        sum = sum + digit**raiseto\n",
    "        temp = temp//10\n",
    "        break\n",
    "    if sum==num:\n",
    "        print(\"The armstrong number is \",num)\n",
    "    "
   ]
  },
  {
   "cell_type": "code",
   "execution_count": null,
   "metadata": {},
   "outputs": [],
   "source": []
  }
 ],
 "metadata": {
  "kernelspec": {
   "display_name": "Python 3",
   "language": "python",
   "name": "python3"
  },
  "language_info": {
   "codemirror_mode": {
    "name": "ipython",
    "version": 3
   },
   "file_extension": ".py",
   "mimetype": "text/x-python",
   "name": "python",
   "nbconvert_exporter": "python",
   "pygments_lexer": "ipython3",
   "version": "3.8.3"
  }
 },
 "nbformat": 4,
 "nbformat_minor": 4
}
